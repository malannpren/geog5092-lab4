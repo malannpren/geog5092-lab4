{
 "cells": [
  {
   "cell_type": "code",
   "execution_count": 1,
   "metadata": {},
   "outputs": [],
   "source": [
    "import numpy as np\n",
    "import rasterio\n",
    "import os\n",
    "import glob\n",
    "import gdal\n",
    "from rasterio.plot import show, show_hist"
   ]
  },
  {
   "cell_type": "code",
   "execution_count": 2,
   "metadata": {},
   "outputs": [
    {
     "name": "stdout",
     "output_type": "stream",
     "text": [
      "[[0 0 0 ... 0 0 0]\n",
      " [0 0 0 ... 0 0 0]\n",
      " [0 0 0 ... 0 0 0]\n",
      " ...\n",
      " [0 0 0 ... 0 0 0]\n",
      " [0 0 0 ... 0 0 0]\n",
      " [0 0 0 ... 0 0 0]]\n",
      "(1765, 1121)\n",
      "<class 'numpy.ndarray'>\n",
      "[[-3.4028235e+38 -3.4028235e+38 -3.4028235e+38 ... -3.4028235e+38\n",
      "  -3.4028235e+38 -3.4028235e+38]\n",
      " [-3.4028235e+38 -3.4028235e+38 -3.4028235e+38 ... -3.4028235e+38\n",
      "  -3.4028235e+38 -3.4028235e+38]\n",
      " [-3.4028235e+38 -3.4028235e+38 -3.4028235e+38 ... -3.4028235e+38\n",
      "  -3.4028235e+38 -3.4028235e+38]\n",
      " ...\n",
      " [-3.4028235e+38 -3.4028235e+38 -3.4028235e+38 ... -3.4028235e+38\n",
      "  -3.4028235e+38 -3.4028235e+38]\n",
      " [-3.4028235e+38 -3.4028235e+38 -3.4028235e+38 ... -3.4028235e+38\n",
      "  -3.4028235e+38 -3.4028235e+38]\n",
      " [-3.4028235e+38 -3.4028235e+38 -3.4028235e+38 ... -3.4028235e+38\n",
      "  -3.4028235e+38 -3.4028235e+38]]\n",
      "(1765, 1121)\n",
      "<class 'numpy.ndarray'>\n",
      "[[0 0 0 ... 0 0 0]\n",
      " [0 0 0 ... 0 0 0]\n",
      " [0 0 0 ... 0 0 0]\n",
      " ...\n",
      " [0 0 0 ... 0 0 0]\n",
      " [0 0 0 ... 0 0 0]\n",
      " [0 0 0 ... 0 0 0]]\n",
      "(1765, 1121)\n",
      "<class 'numpy.ndarray'>\n",
      "[[0 0 0 ... 0 0 0]\n",
      " [0 0 0 ... 0 0 0]\n",
      " [0 0 0 ... 0 0 0]\n",
      " ...\n",
      " [0 0 0 ... 0 0 0]\n",
      " [0 0 0 ... 0 0 0]\n",
      " [0 0 0 ... 0 0 0]]\n",
      "(1765, 1121)\n",
      "<class 'numpy.ndarray'>\n",
      "[[-1.79769313e+308 -1.79769313e+308 -1.79769313e+308 ... -1.79769313e+308\n",
      "  -1.79769313e+308 -1.79769313e+308]\n",
      " [-1.79769313e+308 -1.79769313e+308 -1.79769313e+308 ... -1.79769313e+308\n",
      "  -1.79769313e+308 -1.79769313e+308]\n",
      " [-1.79769313e+308 -1.79769313e+308 -1.79769313e+308 ... -1.79769313e+308\n",
      "  -1.79769313e+308 -1.79769313e+308]\n",
      " ...\n",
      " [-1.79769313e+308 -1.79769313e+308 -1.79769313e+308 ... -1.79769313e+308\n",
      "  -1.79769313e+308 -1.79769313e+308]\n",
      " [-1.79769313e+308 -1.79769313e+308 -1.79769313e+308 ... -1.79769313e+308\n",
      "  -1.79769313e+308 -1.79769313e+308]\n",
      " [-1.79769313e+308 -1.79769313e+308 -1.79769313e+308 ... -1.79769313e+308\n",
      "  -1.79769313e+308 -1.79769313e+308]]\n",
      "(1765, 1121)\n",
      "<class 'numpy.ndarray'>\n",
      "[array([[0, 0, 0, ..., 0, 0, 0],\n",
      "       [0, 0, 0, ..., 0, 0, 0],\n",
      "       [0, 0, 0, ..., 0, 0, 0],\n",
      "       ...,\n",
      "       [0, 0, 0, ..., 0, 0, 0],\n",
      "       [0, 0, 0, ..., 0, 0, 0],\n",
      "       [0, 0, 0, ..., 0, 0, 0]], dtype=uint8), array([[-3.4028235e+38, -3.4028235e+38, -3.4028235e+38, ...,\n",
      "        -3.4028235e+38, -3.4028235e+38, -3.4028235e+38],\n",
      "       [-3.4028235e+38, -3.4028235e+38, -3.4028235e+38, ...,\n",
      "        -3.4028235e+38, -3.4028235e+38, -3.4028235e+38],\n",
      "       [-3.4028235e+38, -3.4028235e+38, -3.4028235e+38, ...,\n",
      "        -3.4028235e+38, -3.4028235e+38, -3.4028235e+38],\n",
      "       ...,\n",
      "       [-3.4028235e+38, -3.4028235e+38, -3.4028235e+38, ...,\n",
      "        -3.4028235e+38, -3.4028235e+38, -3.4028235e+38],\n",
      "       [-3.4028235e+38, -3.4028235e+38, -3.4028235e+38, ...,\n",
      "        -3.4028235e+38, -3.4028235e+38, -3.4028235e+38],\n",
      "       [-3.4028235e+38, -3.4028235e+38, -3.4028235e+38, ...,\n",
      "        -3.4028235e+38, -3.4028235e+38, -3.4028235e+38]], dtype=float32), array([[0, 0, 0, ..., 0, 0, 0],\n",
      "       [0, 0, 0, ..., 0, 0, 0],\n",
      "       [0, 0, 0, ..., 0, 0, 0],\n",
      "       ...,\n",
      "       [0, 0, 0, ..., 0, 0, 0],\n",
      "       [0, 0, 0, ..., 0, 0, 0],\n",
      "       [0, 0, 0, ..., 0, 0, 0]], dtype=uint8), array([[0, 0, 0, ..., 0, 0, 0],\n",
      "       [0, 0, 0, ..., 0, 0, 0],\n",
      "       [0, 0, 0, ..., 0, 0, 0],\n",
      "       ...,\n",
      "       [0, 0, 0, ..., 0, 0, 0],\n",
      "       [0, 0, 0, ..., 0, 0, 0],\n",
      "       [0, 0, 0, ..., 0, 0, 0]], dtype=uint8), array([[-1.79769313e+308, -1.79769313e+308, -1.79769313e+308, ...,\n",
      "        -1.79769313e+308, -1.79769313e+308, -1.79769313e+308],\n",
      "       [-1.79769313e+308, -1.79769313e+308, -1.79769313e+308, ...,\n",
      "        -1.79769313e+308, -1.79769313e+308, -1.79769313e+308],\n",
      "       [-1.79769313e+308, -1.79769313e+308, -1.79769313e+308, ...,\n",
      "        -1.79769313e+308, -1.79769313e+308, -1.79769313e+308],\n",
      "       ...,\n",
      "       [-1.79769313e+308, -1.79769313e+308, -1.79769313e+308, ...,\n",
      "        -1.79769313e+308, -1.79769313e+308, -1.79769313e+308],\n",
      "       [-1.79769313e+308, -1.79769313e+308, -1.79769313e+308, ...,\n",
      "        -1.79769313e+308, -1.79769313e+308, -1.79769313e+308],\n",
      "       [-1.79769313e+308, -1.79769313e+308, -1.79769313e+308, ...,\n",
      "        -1.79769313e+308, -1.79769313e+308, -1.79769313e+308]])]\n"
     ]
    }
   ],
   "source": [
    "raster_names = glob.glob('*.tif')\n",
    "\n",
    "arrays = []\n",
    "for raster in raster_names:\n",
    "    raster1 = gdal.Open(raster)\n",
    "    array1 = raster1.ReadAsArray()\n",
    "    print(array1)\n",
    "    print(array1.shape)\n",
    "    print(type(array1))\n",
    "    arrays.append(array1)\n",
    "print(arrays)"
   ]
  },
  {
   "cell_type": "code",
   "execution_count": 3,
   "metadata": {},
   "outputs": [
    {
     "name": "stderr",
     "output_type": "stream",
     "text": [
      "C:\\Users\\catan\\anaconda3\\envs\\geog5092\\lib\\site-packages\\numpy\\core\\_methods.py:160: RuntimeWarning: overflow encountered in reduce\n",
      "  ret = umr_sum(arr, axis, dtype, out, keepdims)\n"
     ]
    },
    {
     "name": "stdout",
     "output_type": "stream",
     "text": [
      "-inf\n"
     ]
    }
   ],
   "source": [
    "raster_names = glob.glob('*.tif')\n",
    "\n",
    "# part 1 step 1\n",
    "\n",
    "array = []\n",
    "for raster in raster_names:\n",
    "    with rasterio.open(raster) as ds:\n",
    "        arr = ds.read(1)\n",
    "        MeanArr = np.zeros_like(arr)\n",
    "        for row in range(1, arr.shape[0]-1):\n",
    "            for col in range(1, arr.shape[1]-1):\n",
    "                window = arr[row - 1:row + 10, col - 1:col + 8]\n",
    "                array_mean = np.mean(window)\n",
    "                MeanArr[row, col] = array_mean\n",
    "                array.append(MeanArr)\n",
    "MeanArr\n",
    "print(np.mean(MeanArr))"
   ]
  },
  {
   "cell_type": "code",
   "execution_count": 4,
   "metadata": {},
   "outputs": [],
   "source": [
    "# part 2 step 2\n",
    "\n",
    "# urban areas\n",
    "array[0] = np.where(array[0] > 0, 0, 1)\n",
    "\n",
    "# water bodies\n",
    "array[1] = np.where(array[1] < 0.02, 1, 0)\n",
    "\n",
    "# protected areas\n",
    "array[2] = np.where(array[2] < 0.05, 1, 0)\n",
    "\n",
    "# slope\n",
    "array[3] = np.where(array[3] < 0, 0, 1)\n",
    "array[3] = np.where(array[3] < 15, 0, 1)\n",
    "\n",
    "# wind speed\n",
    "array[4] = np.where(array[4] < 0, 0, array[4])\n",
    "array[4] = np.where(array[4] > 8.5, 1, 0)"
   ]
  },
  {
   "cell_type": "code",
   "execution_count": 27,
   "metadata": {},
   "outputs": [
    {
     "data": {
      "image/png": "[encoded data removed]",
      "text/plain": [
       "<Figure size 432x288 with 1 Axes>"
      ]
     },
     "metadata": {
      "needs_background": "light"
     },
     "output_type": "display_data"
    },
    {
     "data": {
      "text/plain": [
       "<AxesSubplot:>"
      ]
     },
     "execution_count": 27,
     "metadata": {},
     "output_type": "execute_result"
    }
   ],
   "source": [
    "show(array[0])"
   ]
  },
  {
   "cell_type": "code",
   "execution_count": 28,
   "metadata": {},
   "outputs": [
    {
     "data": {
      "image/png": "[encoded data removed]",
      "text/plain": [
       "<Figure size 432x288 with 1 Axes>"
      ]
     },
     "metadata": {
      "needs_background": "light"
     },
     "output_type": "display_data"
    },
    {
     "data": {
      "text/plain": [
       "<AxesSubplot:>"
      ]
     },
     "execution_count": 28,
     "metadata": {},
     "output_type": "execute_result"
    }
   ],
   "source": [
    "show(array[1])"
   ]
  },
  {
   "cell_type": "code",
   "execution_count": 29,
   "metadata": {},
   "outputs": [
    {
     "data": {
      "image/png": "[encoded data removed]",
      "text/plain": [
       "<Figure size 432x288 with 1 Axes>"
      ]
     },
     "metadata": {
      "needs_background": "light"
     },
     "output_type": "display_data"
    },
    {
     "data": {
      "text/plain": [
       "<AxesSubplot:>"
      ]
     },
     "execution_count": 29,
     "metadata": {},
     "output_type": "execute_result"
    }
   ],
   "source": [
    "show(array[2])"
   ]
  },
  {
   "cell_type": "code",
   "execution_count": 30,
   "metadata": {},
   "outputs": [
    {
     "data": {
      "image/png": "[encoded data removed]",
      "text/plain": [
       "<Figure size 432x288 with 1 Axes>"
      ]
     },
     "metadata": {
      "needs_background": "light"
     },
     "output_type": "display_data"
    },
    {
     "data": {
      "text/plain": [
       "<AxesSubplot:>"
      ]
     },
     "execution_count": 30,
     "metadata": {},
     "output_type": "execute_result"
    }
   ],
   "source": [
    "show(array[3])"
   ]
  },
  {
   "cell_type": "code",
   "execution_count": 31,
   "metadata": {},
   "outputs": [
    {
     "data": {
      "image/png": "[encoded data removed]",
      "text/plain": [
       "<Figure size 432x288 with 1 Axes>"
      ]
     },
     "metadata": {
      "needs_background": "light"
     },
     "output_type": "display_data"
    },
    {
     "data": {
      "text/plain": [
       "<AxesSubplot:>"
      ]
     },
     "execution_count": 31,
     "metadata": {},
     "output_type": "execute_result"
    }
   ],
   "source": [
    "show(array[4])"
   ]
  },
  {
   "cell_type": "code",
   "execution_count": 35,
   "metadata": {},
   "outputs": [],
   "source": [
    "# part 1 step 3\n",
    "\n",
    "sum = array[0] + array[1] + array[2] + array[3] + array[4]\n",
    "suitability_test = np.where(sum == 5, 1, 0)"
   ]
  },
  {
   "cell_type": "code",
   "execution_count": 42,
   "metadata": {},
   "outputs": [
    {
     "data": {
      "text/plain": [
       "0"
      ]
     },
     "execution_count": 42,
     "metadata": {},
     "output_type": "execute_result"
    }
   ],
   "source": [
    "np.sum(suitability_test)"
   ]
  },
  {
   "cell_type": "code",
   "execution_count": 41,
   "metadata": {},
   "outputs": [
    {
     "data": {
      "image/png": "[encoded data removed]",
      "text/plain": [
       "<Figure size 432x288 with 1 Axes>"
      ]
     },
     "metadata": {
      "needs_background": "light"
     },
     "output_type": "display_data"
    },
    {
     "data": {
      "text/plain": [
       "<AxesSubplot:>"
      ]
     },
     "execution_count": 41,
     "metadata": {},
     "output_type": "execute_result"
    }
   ],
   "source": [
    "show(suitability_test)"
   ]
  },
  {
   "cell_type": "code",
   "execution_count": null,
   "metadata": {},
   "outputs": [],
   "source": [
    "#gdf = gpd.GeoDataFrame(suitability_test)\n"
   ]
  },
  {
   "cell_type": "code",
   "execution_count": 51,
   "metadata": {},
   "outputs": [
    {
     "name": "stdout",
     "output_type": "stream",
     "text": [
      "protected_areas.tif\n",
      "slope.tif\n",
      "urban_areas.tif\n",
      "water_bodies.tif\n",
      "ws80m.tif\n"
     ]
    },
    {
     "data": {
      "image/png": "[encoded data removed]",
      "text/plain": [
       "<Figure size 432x288 with 1 Axes>"
      ]
     },
     "metadata": {
      "needs_background": "light"
     },
     "output_type": "display_data"
    },
    {
     "name": "stdout",
     "output_type": "stream",
     "text": [
      "[[0 0 0 ... 0 0 0]\n",
      " [0 0 0 ... 0 0 0]\n",
      " [0 0 0 ... 0 0 0]\n",
      " ...\n",
      " [0 0 0 ... 0 0 0]\n",
      " [0 0 0 ... 0 0 0]\n",
      " [0 0 0 ... 0 0 0]]\n"
     ]
    }
   ],
   "source": [
    "#with edge effect\n",
    "\n",
    "import numpy as np\n",
    "import rasterio\n",
    "import os\n",
    "import glob\n",
    "import gdal\n",
    "from rasterio.plot import show, show_hist\n",
    "raster_names = glob.glob('*.tif')\n",
    "array = []\n",
    "for raster in raster_names:\n",
    "    print(raster)\n",
    "    with rasterio.open(raster) as ds:\n",
    "        arr = ds.read(1)\n",
    "        MeanArr = np.zeros_like(arr)\n",
    "        for row in range(4, arr.shape[0]-4):\n",
    "            for col in range(5, arr.shape[1]-5):\n",
    "                window = arr[row - 4:row + 5, col - 5:col + 6]\n",
    "                array_mean = np.mean(window)\n",
    "                MeanArr[row, col] = array_mean\n",
    "        array.append(MeanArr)\n",
    "\n",
    "\n",
    "\n",
    "\n",
    "#water bodies\n",
    "array[0] = np.where(array[0] < 0.02,1,0)\n",
    "\n",
    "#wind\n",
    "array[1] = np.where(array[1] < 0, 0, array[1])\n",
    "array[1] = np.where(array[1] > 8.5,1,0)\n",
    "\n",
    "#slope\n",
    "array[2] = np.where(array[2] < 0, 0, array[2])\n",
    "array[2] = np.where(array[2] < 15,1,0)\n",
    "\n",
    "\n",
    "#protected\n",
    "array[3] = np.where(array[3] < 0.05,1,0)\n",
    "\n",
    "#urban\n",
    "array[4] = np.where(array[4] > 0,0,1)\n",
    "\n",
    "sum_array = array[0] + array [1] + array[2] + array[3] + array[4]\n",
    "suitability_test = np.where(sum_array == 5, 1,0)\n",
    "\n",
    "show(suitability_test)\n",
    "print(suitability_test)\n"
   ]
  },
  {
   "cell_type": "code",
   "execution_count": 5,
   "metadata": {},
   "outputs": [
    {
     "name": "stdout",
     "output_type": "stream",
     "text": [
      "protected_areas.tif\n"
     ]
    },
    {
     "name": "stderr",
     "output_type": "stream",
     "text": [
      "C:\\Users\\catan\\anaconda3\\envs\\geog5092\\lib\\site-packages\\numpy\\core\\fromnumeric.py:3373: RuntimeWarning: Mean of empty slice.\n",
      "  out=out, **kwargs)\n",
      "C:\\Users\\catan\\anaconda3\\envs\\geog5092\\lib\\site-packages\\numpy\\core\\_methods.py:170: RuntimeWarning: invalid value encountered in double_scalars\n",
      "  ret = ret.dtype.type(ret / rcount)\n"
     ]
    },
    {
     "name": "stdout",
     "output_type": "stream",
     "text": [
      "slope.tif\n"
     ]
    },
    {
     "name": "stderr",
     "output_type": "stream",
     "text": [
      "C:\\Users\\catan\\anaconda3\\envs\\geog5092\\lib\\site-packages\\numpy\\core\\_methods.py:170: RuntimeWarning: invalid value encountered in true_divide\n",
      "  ret = ret.dtype.type(ret / rcount)\n"
     ]
    },
    {
     "name": "stdout",
     "output_type": "stream",
     "text": [
      "urban_areas.tif\n",
      "water_bodies.tif\n",
      "ws80m.tif\n"
     ]
    },
    {
     "data": {
      "image/png": "[encoded data removed]",
      "text/plain": [
       "<Figure size 432x288 with 1 Axes>"
      ]
     },
     "metadata": {
      "needs_background": "light"
     },
     "output_type": "display_data"
    },
    {
     "name": "stdout",
     "output_type": "stream",
     "text": [
      "[[0 0 0 ... 0 0 0]\n",
      " [0 0 0 ... 0 0 0]\n",
      " [0 0 0 ... 0 0 0]\n",
      " ...\n",
      " [0 0 0 ... 0 0 0]\n",
      " [0 0 0 ... 0 0 0]\n",
      " [0 0 0 ... 0 0 0]]\n"
     ]
    }
   ],
   "source": [
    "# no edge effect\n",
    "\n",
    "import numpy as np\n",
    "import rasterio\n",
    "import os\n",
    "import glob\n",
    "import gdal\n",
    "from rasterio.plot import show, show_hist\n",
    "\n",
    "raster_names = glob.glob('*.tif')\n",
    "array = []\n",
    "for raster in raster_names:\n",
    "    print(raster)\n",
    "    with rasterio.open(raster) as ds:\n",
    "        arr = ds.read(1)\n",
    "        MeanArr = np.zeros_like(arr)\n",
    "        for row in range(1, arr.shape[0]-1):\n",
    "            for col in range(1, arr.shape[1]-1):\n",
    "                window = arr[row - 11: row, col - 9: col]\n",
    "                array_mean = np.mean(window)\n",
    "                #MeanArr[row, col] = array_mean\n",
    "        array.append(MeanArr)\n",
    "\n",
    "# step 2\n",
    "        \n",
    "#protected\n",
    "array[0] = np.where(array[0] < 0.05,1,0)\n",
    "\n",
    "#slope\n",
    "array[1] = np.where(array[1] < 0, 0, array[2])\n",
    "#array[1] = np.where(array[1] == raster.nodata, np.nan, array[1])\n",
    "array[1] = np.where(array[1] < 15,1,0)\n",
    "\n",
    "#urban\n",
    "array[2] = np.where(array[2] > 0,0,1)\n",
    "\n",
    "#water bodies\n",
    "array[3] = np.where(array[3] < 0.02,1,0)\n",
    "\n",
    "#wind\n",
    "array[4] = np.where(array[4] < 0, 0, array[2])\n",
    "array[4] = np.where(array[4] > 8.5,1,0)\n",
    "\n",
    "# step 3\n",
    "\n",
    "sum_array = array[0] + array [1] + array[2] + array[3] + array[4]\n",
    "suitability_test = np.where(sum_array == 5, 1,0)\n",
    "\n",
    "show(suitability_test)\n",
    "print(suitability_test)"
   ]
  },
  {
   "cell_type": "code",
   "execution_count": 73,
   "metadata": {},
   "outputs": [
    {
     "data": {
      "text/plain": [
       "(11, 9)"
      ]
     },
     "execution_count": 73,
     "metadata": {},
     "output_type": "execute_result"
    }
   ],
   "source": [
    "window.shape"
   ]
  },
  {
   "cell_type": "code",
   "execution_count": 29,
   "metadata": {},
   "outputs": [
    {
     "name": "stdout",
     "output_type": "stream",
     "text": [
      "There are 0 suitable sites.\n"
     ]
    }
   ],
   "source": [
    "# new try\n",
    "\n",
    "# importing packages\n",
    "import numpy as np\n",
    "import rasterio\n",
    "import os\n",
    "import glob\n",
    "from rasterio.plot import show, show_hist\n",
    "\n",
    "# pulling files & setting up a temp array\n",
    "raster_files = glob.glob('*.tif')\n",
    "all_arrays = []\n",
    "row_dim = 5\n",
    "col_dim = 4\n",
    "\n",
    "# step 1\n",
    "\n",
    "for raster in raster_files:\n",
    "    with rasterio.open(raster) as data:\n",
    "        array = data.read(1)\n",
    "        array = np.where(array < 0, 0, array)\n",
    "        MeanArr = np.zeros_like(array)\n",
    "        \n",
    "        for row in range(5, array.shape[0] - 5):\n",
    "            for col in range(4, array.shape[1] - 4):\n",
    "                window = array[row - row_dim: row + row_dim + 1,\n",
    "                               col - col_dim: col + col_dim + 1]\n",
    "                MeanArr[row, col] = window.mean()\n",
    "        all_arrays.append(MeanArr)\n",
    "\n",
    "# step 2\n",
    "        \n",
    "# protected areas - less than 5%\n",
    "all_arrays[0] = np.where(all_arrays[0] < 0.05, 1, 0)\n",
    "# slope - avg of less than 15 degrees\n",
    "all_arrays[1] = np.where(all_arrays[1] < 15, 1, 0)\n",
    "# urban areas - cannot contain\n",
    "all_arrays[2] = np.where(all_arrays[2] > 0, 0, 1)\n",
    "# water bodies - less than 2%\n",
    "all_arrays[3] = np.where(all_arrays[3] < 0.02, 1, 0)\n",
    "# wind speed - avg greater than 85\n",
    "all_arrays[4] = np.where(all_arrays[4] > 8.5, 1, 0)\n",
    "\n",
    "# step 3: create a surface of suitability values by summing the five Boolean arrays\n",
    "\n",
    "sum_array = all_arrays[0] + all_arrays[1] + all_arrays[2] + all_arrays[3] + all_arrays[4]\n",
    "suitability_test = np.where(sum_array == 5, 1, 0)\n",
    "\n",
    "# step 4: Convert your final numpy suitability array to a geotif raster file for visualization purposes.\n",
    "\n",
    "with rasterio.open(r\"C:\\Users\\catan\\Desktop\\GEOG5092\\lab4\\data\\data\\slope.tif\") as dataset:\n",
    "   with rasterio.open(f'suitable_sites.tif', 'w',\n",
    "                 driver = 'GTiff',\n",
    "                 height= sum_array.shape[0],\n",
    "                 width=sum_array.shape[1],\n",
    "                 count=1,\n",
    "                 dtype=np.int32,\n",
    "                 crs=dataset.crs,\n",
    "                 transform=dataset.transform,\n",
    "                 ndata =dataset.nodata\n",
    "                 ) as tif_dataset:\n",
    "        tif_dataset.write(sum_array,1)\n",
    "\n",
    "# step 5: In a final print statement, report the number of locations you found with a score of five.\n",
    "\n",
    "print('There are', suitability_test.sum(), 'suitable sites.')"
   ]
  },
  {
   "cell_type": "code",
   "execution_count": 25,
   "metadata": {},
   "outputs": [
    {
     "data": {
      "text/plain": [
       "(11, 9)"
      ]
     },
     "execution_count": 25,
     "metadata": {},
     "output_type": "execute_result"
    }
   ],
   "source": [
    "window.shape"
   ]
  },
  {
   "cell_type": "code",
   "execution_count": 7,
   "metadata": {},
   "outputs": [],
   "source": [
    "# step 4: Convert your final numpy suitability array to a geotif raster file for visualization purposes.\n",
    "\n",
    "with rasterio.open(r\"C:\\Users\\catan\\Desktop\\GEOG5092\\lab4\\data\\data\\slope.tif\") as dataset:\n",
    "   with rasterio.open(f'suitable_sites.tif', 'w',\n",
    "                 driver = 'GTiff',\n",
    "                 height= sum_array.shape[0],\n",
    "                 width=sum_array.shape[1],\n",
    "                 count=1,\n",
    "                 dtype=np.int32,\n",
    "                 crs=dataset.crs,\n",
    "                 transform=dataset.transform,\n",
    "                 ndata =dataset.nodata\n",
    "                 ) as tif_dataset:\n",
    "        tif_dataset.write(sum_array,1)"
   ]
  },
  {
   "cell_type": "code",
   "execution_count": 124,
   "metadata": {},
   "outputs": [
    {
     "ename": "ValueError",
     "evalue": "cannot reshape array of size 1121 into shape (1765,1121)",
     "output_type": "error",
     "traceback": [
      "\u001b[1;31m---------------------------------------------------------------------------\u001b[0m",
      "\u001b[1;31mValueError\u001b[0m                                Traceback (most recent call last)",
      "\u001b[1;32m<ipython-input-124-f4d27895611d>\u001b[0m in \u001b[0;36m<module>\u001b[1;34m\u001b[0m\n\u001b[0;32m      1\u001b[0m \u001b[0msum_array\u001b[0m \u001b[1;33m=\u001b[0m \u001b[0marray\u001b[0m\u001b[1;33m[\u001b[0m\u001b[1;36m0\u001b[0m\u001b[1;33m]\u001b[0m \u001b[1;33m+\u001b[0m \u001b[0marray\u001b[0m\u001b[1;33m[\u001b[0m\u001b[1;36m1\u001b[0m\u001b[1;33m]\u001b[0m \u001b[1;33m+\u001b[0m \u001b[0marray\u001b[0m\u001b[1;33m[\u001b[0m\u001b[1;36m2\u001b[0m\u001b[1;33m]\u001b[0m \u001b[1;33m+\u001b[0m \u001b[0marray\u001b[0m\u001b[1;33m[\u001b[0m\u001b[1;36m3\u001b[0m\u001b[1;33m]\u001b[0m \u001b[1;33m+\u001b[0m \u001b[0marray\u001b[0m\u001b[1;33m[\u001b[0m\u001b[1;36m4\u001b[0m\u001b[1;33m]\u001b[0m\u001b[1;33m\u001b[0m\u001b[1;33m\u001b[0m\u001b[0m\n\u001b[1;32m----> 2\u001b[1;33m \u001b[0ma\u001b[0m \u001b[1;33m=\u001b[0m \u001b[0mnp\u001b[0m\u001b[1;33m.\u001b[0m\u001b[0mreshape\u001b[0m\u001b[1;33m(\u001b[0m\u001b[0msum_array\u001b[0m\u001b[1;33m,\u001b[0m \u001b[1;33m(\u001b[0m\u001b[1;36m1765\u001b[0m\u001b[1;33m,\u001b[0m \u001b[1;36m1121\u001b[0m\u001b[1;33m)\u001b[0m\u001b[1;33m)\u001b[0m\u001b[1;33m\u001b[0m\u001b[1;33m\u001b[0m\u001b[0m\n\u001b[0m\u001b[0;32m      3\u001b[0m \u001b[0msuitability_test\u001b[0m \u001b[1;33m=\u001b[0m \u001b[0mnp\u001b[0m\u001b[1;33m.\u001b[0m\u001b[0mwhere\u001b[0m\u001b[1;33m(\u001b[0m\u001b[0msum_array\u001b[0m \u001b[1;33m==\u001b[0m \u001b[1;36m5\u001b[0m\u001b[1;33m,\u001b[0m \u001b[1;36m1\u001b[0m\u001b[1;33m,\u001b[0m \u001b[1;36m0\u001b[0m\u001b[1;33m)\u001b[0m\u001b[1;33m\u001b[0m\u001b[1;33m\u001b[0m\u001b[0m\n",
      "\u001b[1;32m<__array_function__ internals>\u001b[0m in \u001b[0;36mreshape\u001b[1;34m(*args, **kwargs)\u001b[0m\n",
      "\u001b[1;32m~\\anaconda3\\envs\\geog5092\\lib\\site-packages\\numpy\\core\\fromnumeric.py\u001b[0m in \u001b[0;36mreshape\u001b[1;34m(a, newshape, order)\u001b[0m\n\u001b[0;32m    297\u001b[0m            [5, 6]])\n\u001b[0;32m    298\u001b[0m     \"\"\"\n\u001b[1;32m--> 299\u001b[1;33m     \u001b[1;32mreturn\u001b[0m \u001b[0m_wrapfunc\u001b[0m\u001b[1;33m(\u001b[0m\u001b[0ma\u001b[0m\u001b[1;33m,\u001b[0m \u001b[1;34m'reshape'\u001b[0m\u001b[1;33m,\u001b[0m \u001b[0mnewshape\u001b[0m\u001b[1;33m,\u001b[0m \u001b[0morder\u001b[0m\u001b[1;33m=\u001b[0m\u001b[0morder\u001b[0m\u001b[1;33m)\u001b[0m\u001b[1;33m\u001b[0m\u001b[1;33m\u001b[0m\u001b[0m\n\u001b[0m\u001b[0;32m    300\u001b[0m \u001b[1;33m\u001b[0m\u001b[0m\n\u001b[0;32m    301\u001b[0m \u001b[1;33m\u001b[0m\u001b[0m\n",
      "\u001b[1;32m~\\anaconda3\\envs\\geog5092\\lib\\site-packages\\numpy\\core\\fromnumeric.py\u001b[0m in \u001b[0;36m_wrapfunc\u001b[1;34m(obj, method, *args, **kwds)\u001b[0m\n\u001b[0;32m     56\u001b[0m \u001b[1;33m\u001b[0m\u001b[0m\n\u001b[0;32m     57\u001b[0m     \u001b[1;32mtry\u001b[0m\u001b[1;33m:\u001b[0m\u001b[1;33m\u001b[0m\u001b[1;33m\u001b[0m\u001b[0m\n\u001b[1;32m---> 58\u001b[1;33m         \u001b[1;32mreturn\u001b[0m \u001b[0mbound\u001b[0m\u001b[1;33m(\u001b[0m\u001b[1;33m*\u001b[0m\u001b[0margs\u001b[0m\u001b[1;33m,\u001b[0m \u001b[1;33m**\u001b[0m\u001b[0mkwds\u001b[0m\u001b[1;33m)\u001b[0m\u001b[1;33m\u001b[0m\u001b[1;33m\u001b[0m\u001b[0m\n\u001b[0m\u001b[0;32m     59\u001b[0m     \u001b[1;32mexcept\u001b[0m \u001b[0mTypeError\u001b[0m\u001b[1;33m:\u001b[0m\u001b[1;33m\u001b[0m\u001b[1;33m\u001b[0m\u001b[0m\n\u001b[0;32m     60\u001b[0m         \u001b[1;31m# A TypeError occurs if the object does have such a method in its\u001b[0m\u001b[1;33m\u001b[0m\u001b[1;33m\u001b[0m\u001b[1;33m\u001b[0m\u001b[0m\n",
      "\u001b[1;31mValueError\u001b[0m: cannot reshape array of size 1121 into shape (1765,1121)"
     ]
    }
   ],
   "source": [
    "sum_array = array[0] + array[1] + array[2] + array[3] + array[4]\n",
    "a = np.reshape(sum_array, (1765, 1121))\n",
    "suitability_test = np.where(sum_array == 5, 1, 0)"
   ]
  },
  {
   "cell_type": "code",
   "execution_count": 60,
   "metadata": {},
   "outputs": [
    {
     "name": "stdout",
     "output_type": "stream",
     "text": [
      "protected_areas.tif\n"
     ]
    },
    {
     "ename": "AttributeError",
     "evalue": "'str' object has no attribute 'nodata'",
     "output_type": "error",
     "traceback": [
      "\u001b[1;31m---------------------------------------------------------------------------\u001b[0m",
      "\u001b[1;31mAttributeError\u001b[0m                            Traceback (most recent call last)",
      "\u001b[1;32m<ipython-input-60-7a32087fadc1>\u001b[0m in \u001b[0;36m<module>\u001b[1;34m\u001b[0m\n\u001b[0;32m     11\u001b[0m                 \u001b[0mwindow\u001b[0m \u001b[1;33m=\u001b[0m \u001b[0marr\u001b[0m\u001b[1;33m[\u001b[0m\u001b[0mrow\u001b[0m \u001b[1;33m-\u001b[0m \u001b[1;36m1\u001b[0m\u001b[1;33m:\u001b[0m\u001b[0mrow\u001b[0m \u001b[1;33m+\u001b[0m \u001b[1;36m10\u001b[0m\u001b[1;33m,\u001b[0m \u001b[0mcol\u001b[0m \u001b[1;33m-\u001b[0m \u001b[1;36m1\u001b[0m\u001b[1;33m:\u001b[0m\u001b[0mcol\u001b[0m \u001b[1;33m+\u001b[0m \u001b[1;36m8\u001b[0m\u001b[1;33m]\u001b[0m\u001b[1;33m\u001b[0m\u001b[1;33m\u001b[0m\u001b[0m\n\u001b[0;32m     12\u001b[0m                 \u001b[0marray_mean\u001b[0m \u001b[1;33m=\u001b[0m \u001b[0mnp\u001b[0m\u001b[1;33m.\u001b[0m\u001b[0mmean\u001b[0m\u001b[1;33m(\u001b[0m\u001b[0mwindow\u001b[0m\u001b[1;33m)\u001b[0m\u001b[1;33m\u001b[0m\u001b[1;33m\u001b[0m\u001b[0m\n\u001b[1;32m---> 13\u001b[1;33m                 \u001b[0marray_mean\u001b[0m \u001b[1;33m=\u001b[0m \u001b[0mnp\u001b[0m\u001b[1;33m.\u001b[0m\u001b[0mwhere\u001b[0m\u001b[1;33m(\u001b[0m\u001b[0marray_mean\u001b[0m \u001b[1;33m==\u001b[0m \u001b[0mraster\u001b[0m\u001b[1;33m.\u001b[0m\u001b[0mnodata\u001b[0m\u001b[1;33m,\u001b[0m \u001b[0mnp\u001b[0m\u001b[1;33m.\u001b[0m\u001b[0mnan\u001b[0m\u001b[1;33m,\u001b[0m \u001b[0marray_mean\u001b[0m\u001b[1;33m)\u001b[0m\u001b[1;33m\u001b[0m\u001b[1;33m\u001b[0m\u001b[0m\n\u001b[0m\u001b[0;32m     14\u001b[0m                 \u001b[0mMeanArr\u001b[0m\u001b[1;33m[\u001b[0m\u001b[0mrow\u001b[0m\u001b[1;33m,\u001b[0m \u001b[0mcol\u001b[0m\u001b[1;33m]\u001b[0m \u001b[1;33m=\u001b[0m \u001b[0marray_mean\u001b[0m\u001b[1;33m\u001b[0m\u001b[1;33m\u001b[0m\u001b[0m\n\u001b[0;32m     15\u001b[0m         \u001b[0marray\u001b[0m\u001b[1;33m.\u001b[0m\u001b[0mappend\u001b[0m\u001b[1;33m(\u001b[0m\u001b[0mMeanArr\u001b[0m\u001b[1;33m)\u001b[0m\u001b[1;33m\u001b[0m\u001b[1;33m\u001b[0m\u001b[0m\n",
      "\u001b[1;31mAttributeError\u001b[0m: 'str' object has no attribute 'nodata'"
     ]
    }
   ],
   "source": [
    "from rasterio.plot import show, show_hist\n",
    "raster_names = glob.glob('*.tif')\n",
    "array = []\n",
    "for raster in raster_names:\n",
    "    print(raster)\n",
    "    with rasterio.open(raster) as ds:\n",
    "        arr = ds.read(1)\n",
    "        MeanArr = np.zeros_like(arr)\n",
    "        for row in range(1, arr.shape[0]-1):\n",
    "            for col in range(1, arr.shape[1]-1):\n",
    "                window = arr[row - 1:row + 10, col - 1:col + 8]\n",
    "                array_mean = np.mean(window)\n",
    "                array_mean = np.where(array_mean == raster.nodata, np.nan, array_mean)\n",
    "                MeanArr[row, col] = array_mean\n",
    "        array.append(MeanArr)"
   ]
  },
  {
   "cell_type": "code",
   "execution_count": 63,
   "metadata": {},
   "outputs": [
    {
     "ename": "AttributeError",
     "evalue": "'str' object has no attribute 'nodata'",
     "output_type": "error",
     "traceback": [
      "\u001b[1;31m---------------------------------------------------------------------------\u001b[0m",
      "\u001b[1;31mAttributeError\u001b[0m                            Traceback (most recent call last)",
      "\u001b[1;32m<ipython-input-63-4b70a0fe7d10>\u001b[0m in \u001b[0;36m<module>\u001b[1;34m\u001b[0m\n\u001b[1;32m----> 1\u001b[1;33m \u001b[0marr\u001b[0m \u001b[1;33m=\u001b[0m \u001b[0mnp\u001b[0m\u001b[1;33m.\u001b[0m\u001b[0mwhere\u001b[0m\u001b[1;33m(\u001b[0m\u001b[0marr\u001b[0m \u001b[1;33m==\u001b[0m \u001b[0mraster\u001b[0m\u001b[1;33m.\u001b[0m\u001b[0mnodata\u001b[0m\u001b[1;33m,\u001b[0m \u001b[0mnp\u001b[0m\u001b[1;33m.\u001b[0m\u001b[0mnan\u001b[0m\u001b[1;33m,\u001b[0m \u001b[0marr\u001b[0m\u001b[1;33m)\u001b[0m\u001b[1;33m\u001b[0m\u001b[1;33m\u001b[0m\u001b[0m\n\u001b[0m",
      "\u001b[1;31mAttributeError\u001b[0m: 'str' object has no attribute 'nodata'"
     ]
    }
   ],
   "source": [
    "arr = np.where(arr == raster.nodata, np.nan, arr)"
   ]
  },
  {
   "cell_type": "code",
   "execution_count": 30,
   "metadata": {},
   "outputs": [],
   "source": [
    "# part 2\n",
    "\n",
    "# calling station coordinates\n",
    "\n",
    "xs = []\n",
    "ys = []\n",
    "\n",
    "with open(r\"C:\\Users\\catan\\Desktop\\GEOG5092\\lab4\\data\\data\\transmission_stations.txt\") as coords:\n",
    "    lines = coords.readlines()[1:]\n",
    "    for l in lines:\n",
    "        x,y = l.split(',')\n",
    "        xs.append(float(x))\n",
    "        ys.append(float(y))\n",
    "        stations = np.vstack([xs, ys])\n",
    "        stations = stations.T"
   ]
  },
  {
   "cell_type": "code",
   "execution_count": 93,
   "metadata": {},
   "outputs": [],
   "source": [
    "import rasterio\n",
    "import numpy as np\n",
    "import os\n",
    "import glob\n",
    "from scipy.spatial import cKDTree"
   ]
  },
  {
   "cell_type": "code",
   "execution_count": 94,
   "metadata": {},
   "outputs": [],
   "source": [
    "# define control variables\n",
    "file_dir = \"C:\\\\Users\\\\catan\\\\Desktop\\\\GEOG5092\\\\lab4\\\\data\\\\data\"\n",
    "raster_files = glob.glob(file_dir + '\\*.tif')\n",
    "\n",
    "# window size 11x9\n",
    "winrows = 11\n",
    "wincols = 9"
   ]
  },
  {
   "cell_type": "code",
   "execution_count": 95,
   "metadata": {},
   "outputs": [],
   "source": [
    "# raster prep\n",
    "slope_ras = rasterio.open(os.path.join(file_dir, 'slope.tif'))\n",
    "wind_ras = rasterio.open(os.path.join(file_dir, 'ws80m.tif'))\n",
    "urban_ras = rasterio.open(os.path.join(file_dir, 'urban_areas.tif'))\n",
    "water_ras = rasterio.open(os.path.join(file_dir, 'water_bodies.tif'))\n",
    "protected_ras = rasterio.open(os.path.join(file_dir, 'protected_areas.tif'))\n",
    "\n",
    "slope_arr = slope_ras.read(1)\n",
    "wind_arr = wind_ras.read(1)\n",
    "urban_arr = urban_ras.read(1)\n",
    "water_arr = water_ras.read(1)\n",
    "protected_arr = protected_ras.read(1)\n",
    "\n",
    "#accounting for zeros\n",
    "wind_arr = np.where(wind_arr < 0, 0, wind_arr)\n",
    "slope_arr = np.where(slope_arr < 0, 0, slope_arr)\n",
    "\n",
    "metadata = wind_ras.meta"
   ]
  },
  {
   "cell_type": "code",
   "execution_count": 96,
   "metadata": {},
   "outputs": [],
   "source": [
    "window = np.ones((winrows, wincols))"
   ]
  },
  {
   "cell_type": "code",
   "execution_count": 97,
   "metadata": {},
   "outputs": [],
   "source": [
    "# moving window function\n",
    "\n",
    "def mean_array(temp_arr, window):\n",
    "    pct_arr = np.zeros(temp_arr.shape)\n",
    "    window_area = float(window.sum())\n",
    "    \n",
    "    rowdim = window.shape[0]//2\n",
    "    coldim = window.shape[1]//2\n",
    "    \n",
    "    for row in range(rowdim,temp_arr.shape[0] - rowdim):\n",
    "        for col in range(coldim,temp_arr.shape[1] - coldim):\n",
    "            window = temp_arr[row - rowdim: row + rowdim + 1,\n",
    "                              col - coldim: col + coldim + 1]\n",
    "            pct_arr[row,col] = window.sum()\n",
    "    return pct_arr / window_area"
   ]
  },
  {
   "cell_type": "code",
   "execution_count": 98,
   "metadata": {},
   "outputs": [
    {
     "data": {
      "text/plain": [
       "1921159"
      ]
     },
     "execution_count": 98,
     "metadata": {},
     "output_type": "execute_result"
    }
   ],
   "source": [
    "# slope\n",
    "slope_sites = mean_array(slope_arr, window)\n",
    "slope_sites = np.where(slope_sites > 15, 0, 1)\n",
    "slope_sites.sum()"
   ]
  },
  {
   "cell_type": "code",
   "execution_count": 99,
   "metadata": {},
   "outputs": [
    {
     "data": {
      "text/plain": [
       "2711"
      ]
     },
     "execution_count": 99,
     "metadata": {},
     "output_type": "execute_result"
    }
   ],
   "source": [
    "# wind\n",
    "wind_sites = mean_array(wind_arr, window)\n",
    "wind_sites = np.where(wind_sites > 8.5, 1, 0)\n",
    "wind_sites.sum()"
   ]
  },
  {
   "cell_type": "code",
   "execution_count": 100,
   "metadata": {},
   "outputs": [
    {
     "data": {
      "text/plain": [
       "1978565"
      ]
     },
     "execution_count": 100,
     "metadata": {},
     "output_type": "execute_result"
    }
   ],
   "source": [
    "# urban sites\n",
    "urban_sites = mean_array(urban_arr, window)\n",
    "urban_sites = np.where(urban_sites != 1, 1, 0)\n",
    "urban_sites.sum()"
   ]
  },
  {
   "cell_type": "code",
   "execution_count": 101,
   "metadata": {},
   "outputs": [
    {
     "data": {
      "text/plain": [
       "1961057"
      ]
     },
     "execution_count": 101,
     "metadata": {},
     "output_type": "execute_result"
    }
   ],
   "source": [
    "# water bodies\n",
    "water_sites = mean_array(water_arr, window)\n",
    "water_sites = np.where(water_sites < 0.02, 1, 0)\n",
    "water_sites.sum()"
   ]
  },
  {
   "cell_type": "code",
   "execution_count": 102,
   "metadata": {},
   "outputs": [
    {
     "data": {
      "text/plain": [
       "1889327"
      ]
     },
     "execution_count": 102,
     "metadata": {},
     "output_type": "execute_result"
    }
   ],
   "source": [
    "# protected areas\n",
    "protected_sites = mean_array(protected_arr, window)\n",
    "protected_sites = np.where(protected_sites < 0.05, 1, 0)\n",
    "protected_sites.sum()"
   ]
  },
  {
   "cell_type": "code",
   "execution_count": 103,
   "metadata": {},
   "outputs": [],
   "source": [
    "sum_array = slope_sites + wind_sites + urban_sites + water_sites + protected_sites\n",
    "suitability_test = np.where(sum_array == 5, 1, 0)"
   ]
  },
  {
   "cell_type": "code",
   "execution_count": 105,
   "metadata": {},
   "outputs": [],
   "source": [
    "# step 4: Convert your final numpy suitability array to a geotif raster file for visualization purposes.\n",
    "\n",
    "with rasterio.open(r\"C:\\Users\\catan\\Desktop\\GEOG5092\\lab4\\data\\data\\slope.tif\") as dataset:\n",
    "   with rasterio.open(f'suitable_sites.tif', 'w',\n",
    "                 driver = 'GTiff',\n",
    "                 height= sum_array.shape[0],\n",
    "                 width=sum_array.shape[1],\n",
    "                 count=1,\n",
    "                 dtype=np.int32,\n",
    "                 crs=dataset.crs,\n",
    "                 transform=dataset.transform,\n",
    "                 ndata =dataset.nodata\n",
    "                 ) as tif_dataset:\n",
    "        tif_dataset.write(sum_array,1)"
   ]
  },
  {
   "cell_type": "code",
   "execution_count": 104,
   "metadata": {},
   "outputs": [
    {
     "name": "stdout",
     "output_type": "stream",
     "text": [
      "There are 627 suitable sites.\n"
     ]
    }
   ],
   "source": [
    "print('There are', suitability_test.sum(), 'suitable sites.')"
   ]
  },
  {
   "cell_type": "code",
   "execution_count": 108,
   "metadata": {},
   "outputs": [],
   "source": [
    "ss = rasterio.open('suitable_sites.tif')"
   ]
  },
  {
   "cell_type": "code",
   "execution_count": 113,
   "metadata": {},
   "outputs": [
    {
     "ename": "TypeError",
     "evalue": "_getfullpathname: path should be string, bytes or os.PathLike, not DatasetReader",
     "output_type": "error",
     "traceback": [
      "\u001b[1;31m---------------------------------------------------------------------------\u001b[0m",
      "\u001b[1;31mTypeError\u001b[0m                                 Traceback (most recent call last)",
      "\u001b[1;32m<ipython-input-113-0cb2e49dacad>\u001b[0m in \u001b[0;36m<module>\u001b[1;34m\u001b[0m\n\u001b[1;32m----> 1\u001b[1;33m \u001b[0mos\u001b[0m\u001b[1;33m.\u001b[0m\u001b[0mpath\u001b[0m\u001b[1;33m.\u001b[0m\u001b[0mabspath\u001b[0m\u001b[1;33m(\u001b[0m\u001b[0mss\u001b[0m\u001b[1;33m)\u001b[0m\u001b[1;33m\u001b[0m\u001b[1;33m\u001b[0m\u001b[0m\n\u001b[0m",
      "\u001b[1;32m~\\anaconda3\\envs\\geog5092\\lib\\ntpath.py\u001b[0m in \u001b[0;36mabspath\u001b[1;34m(path)\u001b[0m\n\u001b[0;32m    524\u001b[0m         \u001b[1;34m\"\"\"Return the absolute version of a path.\"\"\"\u001b[0m\u001b[1;33m\u001b[0m\u001b[1;33m\u001b[0m\u001b[0m\n\u001b[0;32m    525\u001b[0m         \u001b[1;32mtry\u001b[0m\u001b[1;33m:\u001b[0m\u001b[1;33m\u001b[0m\u001b[1;33m\u001b[0m\u001b[0m\n\u001b[1;32m--> 526\u001b[1;33m             \u001b[1;32mreturn\u001b[0m \u001b[0mnormpath\u001b[0m\u001b[1;33m(\u001b[0m\u001b[0m_getfullpathname\u001b[0m\u001b[1;33m(\u001b[0m\u001b[0mpath\u001b[0m\u001b[1;33m)\u001b[0m\u001b[1;33m)\u001b[0m\u001b[1;33m\u001b[0m\u001b[1;33m\u001b[0m\u001b[0m\n\u001b[0m\u001b[0;32m    527\u001b[0m         \u001b[1;32mexcept\u001b[0m \u001b[1;33m(\u001b[0m\u001b[0mOSError\u001b[0m\u001b[1;33m,\u001b[0m \u001b[0mValueError\u001b[0m\u001b[1;33m)\u001b[0m\u001b[1;33m:\u001b[0m\u001b[1;33m\u001b[0m\u001b[1;33m\u001b[0m\u001b[0m\n\u001b[0;32m    528\u001b[0m             \u001b[1;32mreturn\u001b[0m \u001b[0m_abspath_fallback\u001b[0m\u001b[1;33m(\u001b[0m\u001b[0mpath\u001b[0m\u001b[1;33m)\u001b[0m\u001b[1;33m\u001b[0m\u001b[1;33m\u001b[0m\u001b[0m\n",
      "\u001b[1;31mTypeError\u001b[0m: _getfullpathname: path should be string, bytes or os.PathLike, not DatasetReader"
     ]
    }
   ],
   "source": [
    "os.path.abspath(ss)"
   ]
  },
  {
   "cell_type": "code",
   "execution_count": null,
   "metadata": {},
   "outputs": [],
   "source": []
  }
 ],
 "metadata": {
  "kernelspec": {
   "display_name": "Python 3",
   "language": "python",
   "name": "python3"
  },
  "language_info": {
   "codemirror_mode": {
    "name": "ipython",
    "version": 3
   },
   "file_extension": ".py",
   "mimetype": "text/x-python",
   "name": "python",
   "nbconvert_exporter": "python",
   "pygments_lexer": "ipython3",
   "version": "3.7.7"
  }
 },
 "nbformat": 4,
 "nbformat_minor": 4
}
